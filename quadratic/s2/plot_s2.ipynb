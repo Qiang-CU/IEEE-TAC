{
 "cells": [
  {
   "cell_type": "code",
   "execution_count": null,
   "metadata": {
    "metadata": {}
   },
   "outputs": [],
   "source": [
    "import os \n",
    "import numpy as np\n",
    "from util import plot_figure\n",
    "import matplotlib\n",
    "import matplotlib.pyplot as plt\n",
    "from matplotlib.ticker import ScalarFormatter\n",
    "import seaborn as sns\n",
    "matplotlib.rcParams['ps.useafm'] = True\n",
    "matplotlib.rcParams['pdf.use14corefonts'] = True\n",
    "color_list = sns.color_palette()\n",
    "from util import compute_spectral_gap"
   ]
  },
  {
   "cell_type": "markdown",
   "metadata": {},
   "source": [
    "### Check Details"
   ]
  },
  {
   "cell_type": "code",
   "execution_count": null,
   "metadata": {
    "metadata": {}
   },
   "outputs": [],
   "source": [
    "num_agent = 40\n",
    "# 20, 30, 40, 50\n",
    "fig, ax = plt.subplots(1, 2, figsize=(5*2, 4))\n",
    "\n",
    "def subplot(me, ax, fig_idx ):\n",
    "\n",
    "    plot_csgd = plot_figure(algo_name=f'csgd', sub_sample=1, dir=f'./s2_res/NumAgent{num_agent}/', log_flag=False, metric='mse')\n",
    "    plot_csgd.plot_lines(ax[fig_idx], color_list[0], label='CSGD', legend=True, plot_star=True)\n",
    "\n",
    "    plot_dsgd_homo = plot_figure(algo_name=f'dsgd-homo', sub_sample=1, dir=f'./s2_res/NumAgent{num_agent}/', log_flag=False, metric=me)\n",
    "    plot_dsgd_homo.plot_lines(ax[fig_idx], color_list[1], label='Homo-DSGD', legend=True, plot_star=True,)\n",
    "\n",
    "    if num_agent <= 20:\n",
    "        plot_dsgd_hete = plot_figure(algo_name=f'dsgd-hete', sub_sample=1, dir=f'./s2_res/NumAgent{num_agent}/', log_flag=False, metric=me)\n",
    "        plot_dsgd_hete.plot_lines(ax[fig_idx], color_list[2], label='Hete-DSGD', legend=True, plot_star=True,)\n",
    "    ax[fig_idx].grid(True)\n",
    "    ax[fig_idx].set_title(f'{me}')\n",
    "\n",
    "subplot('mse',  ax=ax, fig_idx=0)\n",
    "subplot('wmse', ax=ax, fig_idx=1)\n",
    "\n",
    "plt.grid(True)"
   ]
  },
  {
   "cell_type": "markdown",
   "metadata": {},
   "source": [
    "## Compute Transient time"
   ]
  },
  {
   "cell_type": "code",
   "execution_count": null,
   "metadata": {
    "metadata": {}
   },
   "outputs": [],
   "source": [
    "def load_data(dir, word):\n",
    "    file = [f for f in os.listdir(dir) if word in f]\n",
    "    files = [np.load(os.path.join(dir, f), allow_pickle=True) for f in file]\n",
    "    res = np.array([f.item().get('wmse') for f in files])\n",
    "    xvals = files[0].item().get('iter')\n",
    "    mean_res = np.mean(res, axis=0)\n",
    "    return xvals, mean_res\n",
    "\n",
    "def find_window(data, window_size, threshold):\n",
    "    start_index = 0\n",
    "    while start_index + window_size <= len(data):\n",
    "        window = data[start_index:start_index+window_size]\n",
    "        count = np.sum(window < threshold)\n",
    "        if count >= window_size * 0.8:\n",
    "            return start_index + window_size - 1\n",
    "        start_index += 1\n",
    "    return None\n",
    "\n",
    "\n",
    "num_agent_list = [5, 10, 15, 20, 25, 30, 35, 40]\n",
    "xvals = []\n",
    "tran_time_list = []\n",
    "tran_time_list_hete = []\n",
    "graph = 'RingGraph' #'StarGraph'\n",
    "window_size = 10\n",
    "\n",
    "for num_agent in num_agent_list:\n",
    "    # Get sqrt(n)/rho\n",
    "    file_name = f's2_mixMat/' + f'MixingMat-{graph}-NumAgent{num_agent}.npy'\n",
    "    W = np.load(file_name)\n",
    "    spectral_gap = compute_spectral_gap(W)\n",
    "    if spectral_gap.imag == 0:\n",
    "        spectral_gap = spectral_gap.real\n",
    "    \n",
    "    xvals.append(np.sqrt(num_agent)/spectral_gap)\n",
    "    # xvals.append(np.sqrt(num_agent))\n",
    "\n",
    "    # Get tran time\n",
    "    parent_path = f'./s2_res/NumAgent{num_agent}'\n",
    "    x_csgd, y_csgd = load_data(parent_path, 'csgd')\n",
    "    keyword_dsgd = f'dsgd-homo-{graph}'\n",
    "    _, y_dsgd = load_data(parent_path, keyword_dsgd)\n",
    "\n",
    "    ratio = y_dsgd / y_csgd\n",
    "    index = find_window(ratio, window_size, 2)\n",
    "    if index is None:\n",
    "        raise ValueError(f'Num Agent:{num_agent} No transient time found')\n",
    "    tran_time = x_csgd[index]\n",
    "    tran_time_list.append(tran_time)\n",
    "\n",
    "    ## get transient time for hete\n",
    "    if num_agent < 25:\n",
    "        keyword_dsgd = f'dsgd-hete-{graph}'\n",
    "        _, y_dsgd = load_data(parent_path, keyword_dsgd)\n",
    "\n",
    "        ratio = y_dsgd / y_csgd\n",
    "        index = find_window(ratio, window_size, 2)\n",
    "        if index is None:\n",
    "            # raise ValueError(f'Num Agent:{num_agent} No transient time found')\n",
    "            tran_time_list_hete.append(None)\n",
    "        else:\n",
    "            tran_time = x_csgd[index]\n",
    "            tran_time_list_hete.append(tran_time)\n",
    "    else:\n",
    "        tran_time_list_hete.append(None)"
   ]
  },
  {
   "cell_type": "code",
   "execution_count": null,
   "metadata": {
    "metadata": {}
   },
   "outputs": [],
   "source": [
    "fig, ax = plt.subplots(figsize=(5.5,4.3))  # 设置图片大小为 8x6\n",
    "\n",
    "coefficients = np.polyfit(xvals, tran_time_list, 1)\n",
    "linear_fit = np.poly1d(coefficients)\n",
    "ax.plot(xvals, tran_time_list, 'o', color=color_list[0],  markersize=6)\n",
    "ax.plot(xvals, linear_fit(xvals), '-', label=f'y={coefficients[0]:.2f}x + {coefficients[1]:.2f}', color=color_list[0])\n",
    "\n",
    "ax.plot(xvals, tran_time_list_hete, label=r'Hete-DSGD', color=color_list[1], marker='s', markersize=6, linestyle='-')\n",
    "\n",
    "# Change x and y axis to scientific notation\n",
    "ax.xaxis.set_major_formatter(ScalarFormatter(useMathText=True))\n",
    "ax.yaxis.set_major_formatter(ScalarFormatter(useMathText=True))\n",
    "# Annotate each point with the corresponding label\n",
    "for i in range(len(xvals)):\n",
    "    plt.annotate(f'{num_agent_list[i]}', (xvals[i], tran_time_list[i]), textcoords=\"offset points\", xytext=(0,10), ha='center')\n",
    "for i in range(len(xvals)):\n",
    "    if tran_time_list_hete[i] is not None:\n",
    "        plt.annotate(f'{num_agent_list[i]}', (xvals[i], tran_time_list_hete[i]), textcoords=\"offset points\", xytext=(0,10), ha='center')\n",
    "\n",
    "# Optionally, you can control the number of significant digits\n",
    "ax.ticklabel_format(style='sci', axis='x', scilimits=(0,0))\n",
    "ax.ticklabel_format(style='sci', axis='y', scilimits=(0,0))\n",
    "# plt.xscale('log')\n",
    "# plt.yscale('log')\n",
    "ax.tick_params(axis='x', labelsize=20)\n",
    "ax.tick_params(axis='y', labelsize=20)\n",
    "plt.legend(loc=2, prop={'size': 17})\n",
    "plt.grid()\n",
    "plt.xlabel(r'$\\frac{\\sqrt{n}}{\\rho}$', fontsize = 25)\n",
    "plt.ylabel(r'$T_{cvx}$', fontsize = 25)"
   ]
  },
  {
   "cell_type": "code",
   "execution_count": null,
   "metadata": {},
   "outputs": [],
   "source": []
  }
 ],
 "metadata": {
  "kernelspec": {
   "display_name": "my_env2",
   "language": "python",
   "name": "python3"
  },
  "language_info": {
   "codemirror_mode": {
    "name": "ipython",
    "version": 3
   },
   "file_extension": ".py",
   "mimetype": "text/x-python",
   "name": "python",
   "nbconvert_exporter": "python",
   "pygments_lexer": "ipython3",
   "version": "3.8.13"
  }
 },
 "nbformat": 4,
 "nbformat_minor": 4
}
