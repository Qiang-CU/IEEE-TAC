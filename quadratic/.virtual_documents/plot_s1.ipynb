import os 
import numpy as np
from util import plot_figure
import matplotlib
import matplotlib.pyplot as plt
import seaborn as sns
matplotlib.rcParams['ps.useafm'] = True
matplotlib.rcParams['pdf.use14corefonts'] = True
color_list = sns.color_palette()


data_dir = 's1_res-'

fig, ax = plt.subplots(figsize=(5.5, 5))

plot_csgd = plot_figure(algo_name=f'csgd', sub_sample=2, dir = data_dir + 'CSGD', log_flag=True, metric='mse')
plot_csgd.plot_lines(ax, color_list[0], label='CSGD', legend=True, plot_star=True)

plot_csgd = plot_figure(algo_name=f'dsgd-hete', sub_sample=2, dir= data_dir + 'DSGD', log_flag=True, metric='mse')
plot_csgd.plot_lines(ax, color_list[1], label='Hete-DSGD', legend=True, plot_star=True)

plot_csgd = plot_figure(algo_name=f'dsgd-homo', sub_sample=2, dir= data_dir + 'DSGD', log_flag=True, metric='mse')
plot_csgd.plot_lines(ax, color_list[2], label='Homo-DSGD', legend=True, plot_star=False)

plot_csgd = plot_figure(algo_name=f'rho0.3', sub_sample=2, dir= data_dir + 'DSGD', log_flag=True, metric='mse')
plot_csgd.plot_lines(ax, color_list[3], label=r'Mixed $\alpha=0.3$', legend=True, plot_star=False)

plot_csgd = plot_figure(algo_name=f'rho0.7', sub_sample=2, dir= data_dir + 'DSGD', log_flag=True, metric='mse')
plot_csgd.plot_lines(ax, color_list[4], label=r'Mixed $\alpha=0.7$', legend=True, plot_star=False)

plt.grid(True)
ax.set_xlabel(r'Iter no. $t$', fontsize = 18)
ax.set_ylabel(r"$\|\bar{\theta}^{t}_i-\theta^{\star}\|^2$", fontsize = 18)


fig, ax = plt.subplots(figsize=(5.5, 5))


plot_csgd = plot_figure(algo_name=f'csgd', sub_sample=2, dir= data_dir + 'CSGD', log_flag=True, metric='mse')
plot_csgd.plot_lines(ax, color_list[0], label='CSGD', legend=True, plot_star=True)

plot_csgd = plot_figure(algo_name=f'dsgd-hete', sub_sample=2, dir= data_dir + 'DSGD', log_flag=True, metric='wmse')
plot_csgd.plot_lines(ax, color_list[1], label='Hete-DSGD', legend=True, plot_star=True)

plot_csgd = plot_figure(algo_name=f'dsgd-homo', sub_sample=2, dir= data_dir + 'DSGD', log_flag=True, metric='wmse')
plot_csgd.plot_lines(ax, color_list[2], label='Homo-DSGD', legend=True, plot_star=False)

plot_csgd = plot_figure(algo_name=f'rho0.3', sub_sample=2, dir= data_dir + 'DSGD', log_flag=True, metric='wmse')
plot_csgd.plot_lines(ax, color_list[3], label=r'Mixed $\alpha=0.3$', legend=True, plot_star=False)

plot_csgd = plot_figure(algo_name=f'rho0.7', sub_sample=2, dir= data_dir + 'DSGD', log_flag=True, metric='wmse')
plot_csgd.plot_lines(ax, color_list[4], label=r'Mixed $\alpha=0.7$', legend=True, plot_star=False)

plt.grid(True)
ax.set_xlabel(r'Iter no. $t$', fontsize = 18)
ax.set_ylabel(r"$\max_{i\in[n]}\|\theta^{t}_i-\theta^{\star}\|^2$", fontsize = 18)



