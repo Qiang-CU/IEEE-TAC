import numpy as np


num_agent = 3
dim = 5

theta_true = []
l = np.linspace(-1, 1, num_agent+1) 
for c_r in range(num_agent):
    theta_true.append(np.random.uniform(l[c_r], l[c_r+1], dim))


theta_true



